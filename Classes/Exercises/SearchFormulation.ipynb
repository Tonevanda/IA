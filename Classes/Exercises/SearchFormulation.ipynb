{
  "cells": [
    {
      "cell_type": "markdown",
      "metadata": {
        "id": "gcYgYivvJrMJ"
      },
      "source": [
        "# Artificial Intelligence\n",
        "## L.EIC – 3rd Year/2nd Semester\n",
        "### Exercise Sheet 1\n",
        "# Solving Problems by Searching"
      ]
    },
    {
      "cell_type": "markdown",
      "metadata": {
        "id": "_tffQq6tJrMM"
      },
      "source": [
        "## The Two Buckets Problem\n",
        "\n",
        "<img src=\"https://qph.cf2.quoracdn.net/main-qimg-45726b16b460cae0147ae8ca245a8fb0-pjlq\" width=\"250px\" height=\"250px\" align=\"right\">\n",
        "\n",
        "Two buckets of capacities **c1** (e.g. 4 liters) and **c2** (e.g. 3 liters), respectively, are initially empty. The buckets do not have any intermediate markings. The only operations you can perform are:\n",
        "\n",
        "- Fill (completely) a bucket\n",
        "- Empty a bucket.\n",
        "- Pour one bucket into the other (until the target one is full or the source one is empty).\n",
        "\n",
        "The aim is to determine which operations to carry out so that the first bucket contains exactly **n** liters (e.g. 2 litres)."
      ]
    },
    {
      "cell_type": "markdown",
      "metadata": {
        "id": "mi_vNGyQJrMN"
      },
      "source": [
        "Formulate this problem as a search problem by defining the state representation, initial state, operators (their name, preconditions, effects, and cost), and objective test."
      ]
    },
    {
      "cell_type": "markdown",
      "metadata": {
        "id": "VgqYBfwcJrMN"
      },
      "source": [
        "\n",
        "### State Representation\n",
        "\n",
        "> Indented block\n",
        "\n",
        "\n",
        "B1, B2\n",
        "\n",
        "### Initial State\n",
        "B1 = 0\n",
        "B2 = 0\n",
        "\n",
        "### Operators\n",
        "Name | Pre Conditions | Effects | Cost\n",
        "--- | --- | --- | ---\n",
        "Empty1 | W1 > 0 | W1 = 0 | 1\n",
        "Empty2 | W2 > 0 | W2 = 0 | 1\n",
        "fill1 | W1 < C1 | W1 = C1 | 1\n",
        "fill2 | W2 < C2 | W2 = C2 | 1\n",
        "pour12_fill2 |\n",
        "pour12_empty1 |\n",
        "pour21_fill1 |\n",
        "pour21_empty2 |\n",
        "\n",
        "### Objective Test\n",
        "\n",
        "W1 = 2\n"
      ]
    },
    {
      "cell_type": "markdown",
      "metadata": {
        "id": "hCQdqfohJrMO"
      },
      "source": [
        "What is the size of the state space for this problem? Represent the state space by drawing the possible objective states and displaying some of the possible transitions from the initial state."
      ]
    },
    {
      "cell_type": "raw",
      "metadata": {
        "id": "2jYg2IiMJrMO"
      },
      "source": [
        "\n",
        "\n"
      ]
    },
    {
      "cell_type": "markdown",
      "metadata": {
        "id": "V5CMtTKlJrMO"
      },
      "source": [
        "Solve the problem by hand, using tree search. What solutions have you found?"
      ]
    },
    {
      "cell_type": "raw",
      "metadata": {
        "id": "XY9M5pJsJrMO"
      },
      "source": [
        "\n",
        "\n"
      ]
    },
    {
      "cell_type": "markdown",
      "metadata": {
        "id": "CcmB07sPJrMO"
      },
      "source": [
        "### Building a computational approach to handle the problem\n",
        "\n",
        "To build a program to solve the buckets problem, we will implement a solution that separates the problem definition from the algorithms used to traverse the state space. This way, we can reuse our implementations of the search strategies in other problems."
      ]
    },
    {
      "cell_type": "markdown",
      "metadata": {
        "id": "Qzyqkg1YJrMP"
      },
      "source": [
        "#### Representing the two buckets problem as a search problem\n",
        "\n",
        "Let's start by defining a state for the buckets problem. For that, it'll suffice to aggregate two quantities, each representing the amount of water in one of the buckets. We also define a way of printing the state."
      ]
    },
    {
      "cell_type": "code",
      "execution_count": null,
      "metadata": {
        "id": "gL990jyEJrMP"
      },
      "outputs": [
        {
          "ename": "",
          "evalue": "",
          "output_type": "error",
          "traceback": [
            "\u001b[1;31mRunning cells with '/opt/homebrew/bin/python3.12' requires the ipykernel package.\n",
            "\u001b[1;31mRun the following command to install 'ipykernel' into the Python environment. \n",
            "\u001b[1;31mCommand: '/opt/homebrew/bin/python3.12 -m pip install ipykernel -U --user --force-reinstall'"
          ]
        }
      ],
      "source": [
        "class BucketState:\n",
        "    c1 = 4   # capacity for bucket 1\n",
        "    c2 = 3   # capacity for bucket 2\n",
        "\n",
        "    def __init__(self, b1, b2):\n",
        "        self.b1 = b1\n",
        "        self.b2 = b2\n",
        "\n",
        "    '''needed for the visited list'''\n",
        "    def __eq__(self, other):\n",
        "        if isinstance(other, self.__class__):\n",
        "            return self.__dict__ == other.__dict__\n",
        "        else:\n",
        "            return False\n",
        "\n",
        "    def __ne__(self, other):\n",
        "        \"\"\"Overrides the default implementation (unnecessary in Python 3)\"\"\"\n",
        "        return not self.__eq__(other)\n",
        "\n",
        "    def __hash__(self):\n",
        "        return hash((self.b1, self.b2))\n",
        "    ''' - '''\n",
        "\n",
        "    def __str__(self):\n",
        "        return \"(\" + str(self.b1) + \", \" + str(self.b2) + \")\""
      ]
    },
    {
      "cell_type": "markdown",
      "metadata": {
        "id": "YMJUo1vzJrMR"
      },
      "source": [
        "Now we define each of the operators on states:"
      ]
    },
    {
      "cell_type": "code",
      "execution_count": null,
      "metadata": {
        "id": "Ss4-oSZ2JrMR"
      },
      "outputs": [
        {
          "ename": "",
          "evalue": "",
          "output_type": "error",
          "traceback": [
            "\u001b[1;31mRunning cells with '/opt/homebrew/bin/python3.12' requires the ipykernel package.\n",
            "\u001b[1;31mRun the following command to install 'ipykernel' into the Python environment. \n",
            "\u001b[1;31mCommand: '/opt/homebrew/bin/python3.12 -m pip install ipykernel -U --user --force-reinstall'"
          ]
        }
      ],
      "source": [
        "# emptying the first bucket\n",
        "def empty1(state):\n",
        "    if state.b1 > 0:\n",
        "        return BucketState(0, state.b2)\n",
        "    return None\n",
        "\n",
        "# emptying the second bucket\n",
        "def empty2(state):\n",
        "    # your code here\n",
        "    if state.b2 > 0:\n",
        "        return BucketState(state.b1, 0)\n",
        "    return None\n",
        "\n",
        "\n",
        "# your code here\n",
        "def fill1(state):\n",
        "    if state.b1 < state.c1:\n",
        "        return BucketState(state.c1, state.b2)\n",
        "    return None\n",
        "\n",
        "def fill2(state):\n",
        "    if state.b2 < state.c2:\n",
        "        return BucketState(state.b1, state.c2)\n",
        "    return None\n",
        "\n",
        "def pour12_fill2(state):\n",
        "    if state.b2 + state.b1 >= state.c2 and state.b1 > 0 and state.b2 < state.c2:\n",
        "        return BucketState(state.b1 - (state.c2 - state.b2), state.c2)\n",
        "    return None\n",
        "\n",
        "def pour12_empty1(state):\n",
        "    if state.b2 + state.b1 < state.c2 and state.b1 > 0:\n",
        "        return BucketState(0, state.b2 + state.b1)\n",
        "    return None\n",
        "\n",
        "def pour21_fill1(state):\n",
        "    if state.b1 + state.b2 >= state.c1 and state.b2 > 0 and state.b1 < state.c1:\n",
        "        return BucketState(state.c1, state.b2 - (state.c1 - state.b1))\n",
        "    return None\n",
        "\n",
        "def pour21_empty2(state):\n",
        "    if state.b1 + state.b2 < state.c1 and state.b2 > 0:\n",
        "        return BucketState(state.b1 + state.b2, 0)\n",
        "    return None"
      ]
    },
    {
      "cell_type": "markdown",
      "metadata": {
        "id": "ab4A0c6mJrMR"
      },
      "source": [
        "The following function will aggregate all states that can be generated from a given one:"
      ]
    },
    {
      "cell_type": "code",
      "execution_count": null,
      "metadata": {
        "id": "VOLjqBpHJrMR"
      },
      "outputs": [
        {
          "ename": "",
          "evalue": "",
          "output_type": "error",
          "traceback": [
            "\u001b[1;31mRunning cells with '/opt/homebrew/bin/python3.12' requires the ipykernel package.\n",
            "\u001b[1;31mRun the following command to install 'ipykernel' into the Python environment. \n",
            "\u001b[1;31mCommand: '/opt/homebrew/bin/python3.12 -m pip install ipykernel -U --user --force-reinstall'"
          ]
        }
      ],
      "source": [
        "def child_bucket_states(state):\n",
        "    new_states = []\n",
        "    if(empty1(state)):\n",
        "        new_states.append(empty1(state))\n",
        "    if(empty2(state)):\n",
        "        new_states.append(empty2(state))\n",
        "    if(fill1(state)):\n",
        "        new_states.append(fill1(state))\n",
        "    if(fill2(state)):\n",
        "        new_states.append(fill2(state))\n",
        "    if(pour12_fill2(state)):\n",
        "        new_states.append(pour12_fill2(state))\n",
        "    if(pour12_empty1(state)):\n",
        "        new_states.append(pour12_empty1(state))\n",
        "    if(pour21_fill1(state)):\n",
        "        new_states.append(pour21_fill1(state))\n",
        "    if(pour21_empty2(state)):\n",
        "        new_states.append(pour21_empty2(state))\n",
        "    return new_states"
      ]
    },
    {
      "cell_type": "markdown",
      "metadata": {
        "id": "v--KnU93JrMS"
      },
      "source": [
        "Play around with the state transition operators and check if they are working properly:"
      ]
    },
    {
      "cell_type": "code",
      "execution_count": null,
      "metadata": {
        "colab": {
          "base_uri": "https://localhost:8080/"
        },
        "id": "L3iz1D8wJrMS",
        "outputId": "cd720022-289c-456c-c3df-9bace9ad833a"
      },
      "outputs": [
        {
          "ename": "",
          "evalue": "",
          "output_type": "error",
          "traceback": [
            "\u001b[1;31mRunning cells with '/opt/homebrew/bin/python3.12' requires the ipykernel package.\n",
            "\u001b[1;31mRun the following command to install 'ipykernel' into the Python environment. \n",
            "\u001b[1;31mCommand: '/opt/homebrew/bin/python3.12 -m pip install ipykernel -U --user --force-reinstall'"
          ]
        }
      ],
      "source": [
        "s = BucketState(0, 0)\n",
        "s = fill1(s)\n",
        "print(s)\n",
        "\n",
        "child_bucket_states(BucketState(0, 0))\n",
        "\n",
        "# your code here\n"
      ]
    },
    {
      "cell_type": "markdown",
      "metadata": {
        "id": "yqbfUl6IJrMT"
      },
      "source": [
        "Finally, we need to define the goal condition:"
      ]
    },
    {
      "cell_type": "code",
      "execution_count": null,
      "metadata": {
        "id": "BhlRGXIXJrMT"
      },
      "outputs": [
        {
          "ename": "",
          "evalue": "",
          "output_type": "error",
          "traceback": [
            "\u001b[1;31mRunning cells with '/opt/homebrew/bin/python3.12' requires the ipykernel package.\n",
            "\u001b[1;31mRun the following command to install 'ipykernel' into the Python environment. \n",
            "\u001b[1;31mCommand: '/opt/homebrew/bin/python3.12 -m pip install ipykernel -U --user --force-reinstall'"
          ]
        }
      ],
      "source": [
        "def goal_bucket_state(state):\n",
        "    # your code here\n",
        "    if state.b1 == 2:\n",
        "        return True\n",
        "    return False\n"
      ]
    },
    {
      "cell_type": "markdown",
      "metadata": {
        "id": "CfLfwsozJrMT"
      },
      "source": [
        "Test your goal condition:"
      ]
    },
    {
      "cell_type": "code",
      "execution_count": null,
      "metadata": {
        "colab": {
          "base_uri": "https://localhost:8080/"
        },
        "id": "weD3xIIkJrMT",
        "outputId": "887e0d18-b5c9-4887-c15a-1c45e60fc839"
      },
      "outputs": [
        {
          "ename": "",
          "evalue": "",
          "output_type": "error",
          "traceback": [
            "\u001b[1;31mRunning cells with '/opt/homebrew/bin/python3.12' requires the ipykernel package.\n",
            "\u001b[1;31mRun the following command to install 'ipykernel' into the Python environment. \n",
            "\u001b[1;31mCommand: '/opt/homebrew/bin/python3.12 -m pip install ipykernel -U --user --force-reinstall'"
          ]
        }
      ],
      "source": [
        "# your code here\n",
        "a = BucketState(0, 0)\n",
        "b = BucketState(2, 0)\n",
        "print(goal_bucket_state(a))\n",
        "print(goal_bucket_state(b))"
      ]
    },
    {
      "cell_type": "markdown",
      "metadata": {
        "id": "w3_W0up1JrMU"
      },
      "source": [
        "#### Implementing search algorithms\n",
        "\n",
        "Let us start by defining an appropriate structure to represent a node in a search tree. Each tree node will include:\n",
        "- a state of the problem\n",
        "- a link to its parent (to allow traveling from a leaf node towards the root of the tree)\n",
        "- a list of child nodes"
      ]
    },
    {
      "cell_type": "code",
      "execution_count": null,
      "metadata": {
        "id": "AHN2zcTQJrMU"
      },
      "outputs": [
        {
          "ename": "",
          "evalue": "",
          "output_type": "error",
          "traceback": [
            "\u001b[1;31mRunning cells with '/opt/homebrew/bin/python3.12' requires the ipykernel package.\n",
            "\u001b[1;31mRun the following command to install 'ipykernel' into the Python environment. \n",
            "\u001b[1;31mCommand: '/opt/homebrew/bin/python3.12 -m pip install ipykernel -U --user --force-reinstall'"
          ]
        }
      ],
      "source": [
        "# A generic definition of a tree node holding a state of the problem\n",
        "class TreeNode:\n",
        "    def __init__(self, state, parent=None):\n",
        "        self.state = state\n",
        "        self.parent = parent\n",
        "        self.children = []\n",
        "\n",
        "    def add_child(self, child_node):\n",
        "        self.children.append(child_node)\n",
        "        child_node.parent = self"
      ]
    },
    {
      "cell_type": "markdown",
      "metadata": {
        "id": "kU5XDhu9JrMU"
      },
      "source": [
        "##### Breadth-first search\n",
        "\n",
        "Based on this structure, we can now implement breadth-first search. Note that we want the implementation to be independent of the problem at hand (in this case, the two buckets problem)."
      ]
    },
    {
      "cell_type": "code",
      "execution_count": null,
      "metadata": {
        "id": "6gwSmn_3JrMU"
      },
      "outputs": [
        {
          "ename": "",
          "evalue": "",
          "output_type": "error",
          "traceback": [
            "\u001b[1;31mRunning cells with '/opt/homebrew/bin/python3.12' requires the ipykernel package.\n",
            "\u001b[1;31mRun the following command to install 'ipykernel' into the Python environment. \n",
            "\u001b[1;31mCommand: '/opt/homebrew/bin/python3.12 -m pip install ipykernel -U --user --force-reinstall'"
          ]
        }
      ],
      "source": [
        "from collections import deque\n",
        "\n",
        "def breadth_first_search(initial_state, goal_state_func, operators_func):\n",
        "    root = TreeNode(initial_state)   # create the root node in the search tree\n",
        "    queue = deque([root])   # initialize the queue to store the nodes\n",
        "\n",
        "    while queue:\n",
        "        node = queue.popleft()   # get first element in the queue\n",
        "        if goal_state_func(node.state):   # check goal state\n",
        "            return node\n",
        "\n",
        "        for state in operators_func(node.state):   # go through next states\n",
        "            # create tree node with the new state\n",
        "            # your code here\n",
        "            newNode = TreeNode(state)\n",
        "\n",
        "            # link child node to its parent in the tree\n",
        "            # your code here\n",
        "            node.add_child(newNode)\n",
        "\n",
        "            # enqueue the child node\n",
        "            # your code here\n",
        "            queue.append(newNode)\n",
        "\n",
        "\n",
        "    return None"
      ]
    },
    {
      "cell_type": "markdown",
      "metadata": {
        "id": "AM9Ftmm7JrMV"
      },
      "source": [
        "We can now use this function to actually perform a breadth-first search on the buckets problem: we pass it the initial state, our goal condition function, and the function for obtaining child states."
      ]
    },
    {
      "cell_type": "code",
      "execution_count": null,
      "metadata": {
        "colab": {
          "base_uri": "https://localhost:8080/"
        },
        "id": "FsGLWSK4JrMV",
        "outputId": "00f523f1-c3fb-4ebe-d730-48f0c023aa40"
      },
      "outputs": [
        {
          "ename": "",
          "evalue": "",
          "output_type": "error",
          "traceback": [
            "\u001b[1;31mRunning cells with '/opt/homebrew/bin/python3.12' requires the ipykernel package.\n",
            "\u001b[1;31mRun the following command to install 'ipykernel' into the Python environment. \n",
            "\u001b[1;31mCommand: '/opt/homebrew/bin/python3.12 -m pip install ipykernel -U --user --force-reinstall'"
          ]
        }
      ],
      "source": [
        "goal = breadth_first_search(BucketState(0,0),\n",
        "                            goal_bucket_state,\n",
        "                            child_bucket_states)\n",
        "print(goal.state)"
      ]
    },
    {
      "cell_type": "markdown",
      "metadata": {
        "id": "oZnG6ZfQJrMV"
      },
      "source": [
        "In order to print the actual steps from the initial state to the last, we can take advantage of each node's link to its parent."
      ]
    },
    {
      "cell_type": "markdown",
      "metadata": {
        "id": "Vk0KLpT6sfsC"
      },
      "source": []
    },
    {
      "cell_type": "code",
      "execution_count": null,
      "metadata": {
        "id": "dS3Nk_4kJrMV"
      },
      "outputs": [
        {
          "ename": "",
          "evalue": "",
          "output_type": "error",
          "traceback": [
            "\u001b[1;31mRunning cells with '/opt/homebrew/bin/python3.12' requires the ipykernel package.\n",
            "\u001b[1;31mRun the following command to install 'ipykernel' into the Python environment. \n",
            "\u001b[1;31mCommand: '/opt/homebrew/bin/python3.12 -m pip install ipykernel -U --user --force-reinstall'"
          ]
        }
      ],
      "source": [
        "from collections import deque\n",
        "\n",
        "def print_solution(node):\n",
        "    # your code here\n",
        "    newNode = node\n",
        "    count = 0\n",
        "    nodeList = [newNode]\n",
        "    while newNode.parent:\n",
        "      count += 1\n",
        "      nodeList.append(newNode.parent)\n",
        "      newNode = newNode.parent\n",
        "\n",
        "    print(f\"Found goal state in {count} steps:\")\n",
        "    for node in nodeList[::-1]:\n",
        "      print(node.state)\n",
        "\n",
        "    return"
      ]
    },
    {
      "cell_type": "markdown",
      "metadata": {
        "id": "4PN1GN5BJrMV"
      },
      "source": [
        "Now we can print the solution:"
      ]
    },
    {
      "cell_type": "code",
      "execution_count": null,
      "metadata": {
        "colab": {
          "base_uri": "https://localhost:8080/"
        },
        "id": "pP1tH7jpJrMW",
        "outputId": "1cfad432-ad87-4181-e0c0-785c5013c703"
      },
      "outputs": [
        {
          "ename": "",
          "evalue": "",
          "output_type": "error",
          "traceback": [
            "\u001b[1;31mRunning cells with '/opt/homebrew/bin/python3.12' requires the ipykernel package.\n",
            "\u001b[1;31mRun the following command to install 'ipykernel' into the Python environment. \n",
            "\u001b[1;31mCommand: '/opt/homebrew/bin/python3.12 -m pip install ipykernel -U --user --force-reinstall'"
          ]
        }
      ],
      "source": [
        "print_solution(goal)"
      ]
    },
    {
      "cell_type": "markdown",
      "metadata": {
        "id": "NYtvvLx8JrMW"
      },
      "source": [
        "If we need a description for each of the employed operators, we could have each operation function return also such a description, and modify the TreeNode class so that each node also includes a description of the edge to get there. We leave that as an exercise after class."
      ]
    },
    {
      "cell_type": "markdown",
      "metadata": {
        "id": "AfCSEUyFJrMW"
      },
      "source": [
        "##### Depth-first search\n",
        "\n",
        "Implement depth-first search (again, in a manner that is independent of the problem at hand). You can start from your breadth-first search implementation and with minor changes get an implementation for depth-first search."
      ]
    },
    {
      "cell_type": "code",
      "execution_count": null,
      "metadata": {
        "id": "cKUvX_5fJrMW"
      },
      "outputs": [
        {
          "ename": "",
          "evalue": "",
          "output_type": "error",
          "traceback": [
            "\u001b[1;31mRunning cells with '/opt/homebrew/bin/python3.12' requires the ipykernel package.\n",
            "\u001b[1;31mRun the following command to install 'ipykernel' into the Python environment. \n",
            "\u001b[1;31mCommand: '/opt/homebrew/bin/python3.12 -m pip install ipykernel -U --user --force-reinstall'"
          ]
        }
      ],
      "source": [
        "def depth_first_search(initial_state, goal_state_func, operators_func):\n",
        "    root = TreeNode(initial_state)\n",
        "    stack = [root]\n",
        "    visited = set()\n",
        "\n",
        "    while stack:\n",
        "        node = stack.pop()\n",
        "        if goal_state_func(node.state):\n",
        "            return node\n",
        "\n",
        "        visited.add(node.state)\n",
        "\n",
        "        for state in operators_func(node.state):\n",
        "            if state not in visited:\n",
        "\n",
        "                newNode = TreeNode(state)\n",
        "\n",
        "                node.add_child(newNode)\n",
        "\n",
        "                stack.append(newNode)\n",
        "\n",
        "                visited.add(state)\n",
        "    return None"
      ]
    },
    {
      "cell_type": "markdown",
      "metadata": {
        "id": "vkLBduxuJrMX"
      },
      "source": [
        "Test it on the two buckets problem."
      ]
    },
    {
      "cell_type": "code",
      "execution_count": null,
      "metadata": {
        "colab": {
          "base_uri": "https://localhost:8080/"
        },
        "id": "heSB9_b5JrMX",
        "outputId": "bfce9952-8fb1-4650-a67b-72092ef45d78"
      },
      "outputs": [
        {
          "ename": "",
          "evalue": "",
          "output_type": "error",
          "traceback": [
            "\u001b[1;31mRunning cells with '/opt/homebrew/bin/python3.12' requires the ipykernel package.\n",
            "\u001b[1;31mRun the following command to install 'ipykernel' into the Python environment. \n",
            "\u001b[1;31mCommand: '/opt/homebrew/bin/python3.12 -m pip install ipykernel -U --user --force-reinstall'"
          ]
        }
      ],
      "source": [
        "# your code here\n",
        "goal = depth_first_search(BucketState(0,0),\n",
        "                            goal_bucket_state,\n",
        "                            child_bucket_states)\n",
        "print_solution(goal)"
      ]
    },
    {
      "cell_type": "markdown",
      "metadata": {
        "id": "gPmtbP-OJrMX"
      },
      "source": [
        "If you are unable to get a solution, think about it: depth-first search is not a complete search method, and one of the reasons for that is if the state space contains cycles. As such, you need to make sure you avoid entering into a cycle by keeping a visited nodes list or set and checking that list whenever you generate a new state."
      ]
    },
    {
      "cell_type": "markdown",
      "metadata": {
        "id": "gi11UL38JrMY"
      },
      "source": [
        "##### Depth-limited search\n",
        "\n",
        "Another way to make it work is to impose a depth limit to the problem. Implement depth-limited search."
      ]
    },
    {
      "cell_type": "code",
      "execution_count": null,
      "metadata": {
        "id": "SfJyiQ1MJrMY"
      },
      "outputs": [
        {
          "ename": "",
          "evalue": "",
          "output_type": "error",
          "traceback": [
            "\u001b[1;31mRunning cells with '/opt/homebrew/bin/python3.12' requires the ipykernel package.\n",
            "\u001b[1;31mRun the following command to install 'ipykernel' into the Python environment. \n",
            "\u001b[1;31mCommand: '/opt/homebrew/bin/python3.12 -m pip install ipykernel -U --user --force-reinstall'"
          ]
        }
      ],
      "source": [
        "def depth_limited_search(initial_state, goal_state_func, operators_func, depth_limit):\n",
        "    root = TreeNode(initial_state)\n",
        "    stack = [(root, 0)]\n",
        "\n",
        "    while stack:\n",
        "        node, depth = stack.pop()\n",
        "        if depth > depth_limit:\n",
        "            continue\n",
        "\n",
        "        if goal_state_func(node.state):\n",
        "            return node\n",
        "\n",
        "        if depth < depth_limit:\n",
        "            for state in operators_func(node.state):\n",
        "\n",
        "                newNode = TreeNode(state)\n",
        "\n",
        "                node.add_child(newNode)\n",
        "\n",
        "                stack.append((newNode, depth + 1))\n",
        "\n",
        "    return None"
      ]
    },
    {
      "cell_type": "markdown",
      "metadata": {
        "id": "DEDnupo8JrMY"
      },
      "source": [
        "Test it on the two buckets problem."
      ]
    },
    {
      "cell_type": "code",
      "execution_count": null,
      "metadata": {
        "colab": {
          "base_uri": "https://localhost:8080/"
        },
        "id": "o-S3ecjQJrMZ",
        "outputId": "36305f27-7e70-4840-897d-d2b3b0038437"
      },
      "outputs": [
        {
          "ename": "",
          "evalue": "",
          "output_type": "error",
          "traceback": [
            "\u001b[1;31mRunning cells with '/opt/homebrew/bin/python3.12' requires the ipykernel package.\n",
            "\u001b[1;31mRun the following command to install 'ipykernel' into the Python environment. \n",
            "\u001b[1;31mCommand: '/opt/homebrew/bin/python3.12 -m pip install ipykernel -U --user --force-reinstall'"
          ]
        }
      ],
      "source": [
        "# your code here\n",
        "goal = depth_limited_search(BucketState(0,0),\n",
        "                            goal_bucket_state,\n",
        "                            child_bucket_states,\n",
        "                            10)\n",
        "print_solution(goal)"
      ]
    },
    {
      "cell_type": "markdown",
      "metadata": {
        "id": "UOrLrS6BJrMZ"
      },
      "source": [
        "##### Iterative deepening search\n",
        "\n",
        "Based on depth-limited, you can easily implement iterative-deepening search."
      ]
    },
    {
      "cell_type": "code",
      "execution_count": null,
      "metadata": {
        "id": "TrMDIa06JrMZ"
      },
      "outputs": [
        {
          "ename": "",
          "evalue": "",
          "output_type": "error",
          "traceback": [
            "\u001b[1;31mRunning cells with '/opt/homebrew/bin/python3.12' requires the ipykernel package.\n",
            "\u001b[1;31mRun the following command to install 'ipykernel' into the Python environment. \n",
            "\u001b[1;31mCommand: '/opt/homebrew/bin/python3.12 -m pip install ipykernel -U --user --force-reinstall'"
          ]
        }
      ],
      "source": [
        "def iterative_deepening_search(initial_state, goal_state_func, operators_func, depth_limit):\n",
        "    for depth_limit in range(depth_limit + 1):\n",
        "        result = depth_limited_search(initial_state, goal_state_func, operators_func, depth_limit)\n",
        "        if result is not None:\n",
        "            return result\n",
        "    return None\n"
      ]
    },
    {
      "cell_type": "markdown",
      "metadata": {
        "id": "6fomwtGZJrMa"
      },
      "source": [
        "Again, test it on the two buckets problem."
      ]
    },
    {
      "cell_type": "code",
      "execution_count": null,
      "metadata": {
        "colab": {
          "base_uri": "https://localhost:8080/"
        },
        "id": "_H36lnvuJrMa",
        "outputId": "03e62345-1232-416f-bdfa-441399bfe8a3"
      },
      "outputs": [
        {
          "ename": "",
          "evalue": "",
          "output_type": "error",
          "traceback": [
            "\u001b[1;31mRunning cells with '/opt/homebrew/bin/python3.12' requires the ipykernel package.\n",
            "\u001b[1;31mRun the following command to install 'ipykernel' into the Python environment. \n",
            "\u001b[1;31mCommand: '/opt/homebrew/bin/python3.12 -m pip install ipykernel -U --user --force-reinstall'"
          ]
        }
      ],
      "source": [
        "# your code here\n",
        "goal = iterative_deepening_search(BucketState(0,0),\n",
        "                            goal_bucket_state,\n",
        "                            child_bucket_states,\n",
        "                            10)\n",
        "print_solution(goal)"
      ]
    },
    {
      "cell_type": "markdown",
      "metadata": {
        "id": "6JXSRSx_JrMb"
      },
      "source": [
        "## The Missionaries and Cannibals Problem\n",
        "\n",
        "<img src=\"https://allfish24.files.wordpress.com/2016/09/gambar-1.jpg\">\n",
        "\n",
        "Three missionaries and three cannibals are on one of the banks of the river with a boat that only takes one or two people. The boat cannot travel the river alone.\n",
        "\n",
        "The goal is to find a way to get the six to the other bank of the river without ever leaving more cannibals than missionaries on one of the banks (even at the instant they leave/join the boat) during the process."
      ]
    },
    {
      "cell_type": "markdown",
      "metadata": {
        "id": "OXM9HpAXJrMb"
      },
      "source": [
        "Formulate this problem as a search problem by defining the state representation, initial state, operators (their name, preconditions, effects, and cost), and objective test."
      ]
    },
    {
      "cell_type": "raw",
      "metadata": {
        "id": "7D23XR7dJrMb"
      },
      "source": [
        "\n",
        "\n"
      ]
    },
    {
      "cell_type": "markdown",
      "metadata": {
        "id": "r98qSFR4JrMb"
      },
      "source": [
        "Solve the problem by hand, using tree search. What solutions have you found?"
      ]
    },
    {
      "cell_type": "raw",
      "metadata": {
        "id": "Z6JYNo2uJrMb"
      },
      "source": [
        "\n",
        "\n"
      ]
    },
    {
      "cell_type": "markdown",
      "metadata": {
        "id": "fggfhDczJrMb"
      },
      "source": [
        "Represent the problem as a search problem and take advantage of the implemented search algorithms to find solutions!"
      ]
    },
    {
      "cell_type": "code",
      "execution_count": null,
      "metadata": {
        "id": "jQhItqv0JrMb"
      },
      "outputs": [
        {
          "ename": "",
          "evalue": "",
          "output_type": "error",
          "traceback": [
            "\u001b[1;31mRunning cells with '/opt/homebrew/bin/python3.12' requires the ipykernel package.\n",
            "\u001b[1;31mRun the following command to install 'ipykernel' into the Python environment. \n",
            "\u001b[1;31mCommand: '/opt/homebrew/bin/python3.12 -m pip install ipykernel -U --user --force-reinstall'"
          ]
        }
      ],
      "source": [
        "# your code here\n"
      ]
    }
  ],
  "metadata": {
    "colab": {
      "provenance": []
    },
    "kernelspec": {
      "display_name": "Python 3 (ipykernel)",
      "language": "python",
      "name": "python3"
    },
    "language_info": {
      "codemirror_mode": {
        "name": "ipython",
        "version": 3
      },
      "file_extension": ".py",
      "mimetype": "text/x-python",
      "name": "python",
      "nbconvert_exporter": "python",
      "pygments_lexer": "ipython3",
      "version": "3.12.1"
    }
  },
  "nbformat": 4,
  "nbformat_minor": 0
}
